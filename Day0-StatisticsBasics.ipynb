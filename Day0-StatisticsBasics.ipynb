{
 "cells": [
  {
   "cell_type": "markdown",
   "metadata": {},
   "source": [
    "# Libraries"
   ]
  },
  {
   "cell_type": "code",
   "execution_count": 6,
   "metadata": {},
   "outputs": [],
   "source": [
    "import numpy as np\n",
    "import pandas as pd\n",
    "import matplotlib.pyplot as plt\n",
    "import seaborn as sns\n",
    "import time\n",
    "\n",
    "\n",
    "\n",
    "import statsmodels as sm \n",
    "import scipy as sc "
   ]
  },
  {
   "cell_type": "markdown",
   "metadata": {},
   "source": [
    "# Central Tendency"
   ]
  },
  {
   "cell_type": "markdown",
   "metadata": {},
   "source": [
    "\"\"\" \n",
    "1. Mean - Arithmetic Mean\n",
    "* Average of all the values in a given list of elements\n",
    "* Outliers Has impact on this metric\n",
    "* Skewed Distributions also has impact on this metric\n",
    "* Mean can be used directly if the data is normally distributed\n",
    "\n",
    "\n",
    "2. Mode\n",
    "* It tells the most frequently occured element in the given array / list\n",
    "* If there are two elements of same frequency ( high occurences ) then both values will be shown and its called bi-modal\n",
    "* If more numbers are there then it is multi-modal\n",
    "* This is commonly used in categorical data replacement\n",
    "*\n",
    "\n",
    "3. Median\n",
    "* This is helpful in place of Mean, where the data is non normally distributed \n",
    "* Median is not affected by the outliers that heavily as it is on the Mean\n",
    "* The skewed dataset also has little effect on the Median\n",
    "* Median is used when the dataset is of above distribution\n",
    "\n",
    "\n",
    "\"\"\""
   ]
  },
  {
   "cell_type": "code",
   "execution_count": 8,
   "metadata": {},
   "outputs": [
    {
     "data": {
      "text/plain": [
       "array([42, 13,  5, 29, 32, 10,  6, 19, 35, 40])"
      ]
     },
     "execution_count": 8,
     "metadata": {},
     "output_type": "execute_result"
    }
   ],
   "source": [
    "random_list = np.random.randint(5,50,size=10)#(1,10,)\n",
    "random_list"
   ]
  },
  {
   "cell_type": "code",
   "execution_count": 10,
   "metadata": {},
   "outputs": [
    {
     "data": {
      "text/plain": [
       "(7.333333333333333, 7.5, 9)"
      ]
     },
     "execution_count": 10,
     "metadata": {},
     "output_type": "execute_result"
    }
   ],
   "source": [
    "standard_list = [5,6,7,8,9,9]\n",
    "\n",
    "avg = np.mean(standard_list)\n",
    "medin = np.median(standard_list)\n",
    "modes = sc.stats.mode(standard_list)\n",
    "avg, medin, modes[0]"
   ]
  },
  {
   "cell_type": "code",
   "execution_count": 11,
   "metadata": {},
   "outputs": [
    {
     "data": {
      "text/plain": [
       "9"
      ]
     },
     "execution_count": 11,
     "metadata": {},
     "output_type": "execute_result"
    }
   ],
   "source": [
    "## mode\n",
    "max(set(standard_list), key=standard_list.count)"
   ]
  },
  {
   "cell_type": "markdown",
   "metadata": {},
   "source": [
    "# Dispersion"
   ]
  },
  {
   "cell_type": "markdown",
   "metadata": {},
   "source": [
    "\"\"\" \n",
    "1.Variance\n",
    "* This tells how the data is spread, not in the same units as the data is\n",
    "* It is the sum of squared difference between the mean and individual values\n",
    "* Variance value is used as an intermediate step in some of the statistics like chi-square test\n",
    "* This is not generally preferred\n",
    "\n",
    "\n",
    "2.Standard Deviation\n",
    "* SD basically tells how condensed or scattered the data is around the mean, lower the SD number - closer the values to Mean\n",
    "* SD is the square root of Variance\n",
    "* SD is in the same units of the data is.\n",
    "* Easy to interpret\n",
    "* For a normally distributed dataset, any data point will fall < 3 SD\n",
    "* Ex: mean 80 and SD: 7.07 then for a given datapoint x1=90, its SD is (80-90)/7.07 = 1.4 SD <= 3 SD\n",
    "* This is also used to detect outliers\n",
    "\n",
    "\n",
    "3.Range\n",
    "\n",
    "4.Percentile\n",
    "\n",
    "\n",
    "5.IQR\n",
    "\n",
    "\"\"\""
   ]
  },
  {
   "cell_type": "markdown",
   "metadata": {},
   "source": []
  }
 ],
 "metadata": {
  "kernelspec": {
   "display_name": ".venv",
   "language": "python",
   "name": "python3"
  },
  "language_info": {
   "codemirror_mode": {
    "name": "ipython",
    "version": 3
   },
   "file_extension": ".py",
   "mimetype": "text/x-python",
   "name": "python",
   "nbconvert_exporter": "python",
   "pygments_lexer": "ipython3",
   "version": "3.9.10"
  }
 },
 "nbformat": 4,
 "nbformat_minor": 2
}
